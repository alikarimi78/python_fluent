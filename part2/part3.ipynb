{
 "cells": [
  {
   "metadata": {},
   "cell_type": "markdown",
   "source": [
    "# fluent python\n",
    "## chapter 2\n",
    "------------------------------------------------------------------------------------\n",
    "Container sequences:\n",
    "Can hold items of different types, including nested containers. Some examples:\n",
    "list, tuple, and collections.deque.\n",
    "\n",
    "Flat sequences:\n",
    "Hold items of one simple type. Some examples: str, bytes, and array.array and numpy array.\n",
    "\n",
    "A container sequence holds references to the objects it contains, which may be of any\n",
    "type, while a flat sequence stores the value of its contents in its own memory space,\n",
    "not as distinct Python objects.\n",
    "\n",
    "Every Python object in memory has a header with metadata. The simplest Python object, a float, has a value field and two metadata fields:\n",
    "• ob_refcnt: the object’s reference count   (t tracks the number of active references (pointers) to the object. When the reference count drops to zero, the object is no longer being used and can be safely destroyed (freed from memory).)\n",
    "• ob_type: a pointer to the object’s type\n",
    "• ob_fval: a C double holding the value of the float\n",
    "\n",
    "\n",
    "\n",
    "the array is a single object holding the raw values of the floats,\n",
    "while the tuple consists of several objects—the tuple itself and each\n",
    "float object contained in it. so an array of floats is much more compact than a tuple of floats"
   ],
   "id": "a5d9b2518697df5a"
  },
  {
   "metadata": {},
   "cell_type": "code",
   "outputs": [],
   "execution_count": null,
   "source": [
    "x = 42  # Creates a new integer object with ob_refcnt = 1\n",
    "y = x   # Now, ob_refcnt = 2 (x and y both reference the same object)\n"
   ],
   "id": "cecbe3452e928888"
  },
  {
   "metadata": {},
   "cell_type": "markdown",
   "source": [
    "--------------------------------------------------------------\n",
    "Another way of grouping sequence types is by mutability:\n",
    "\n",
    "Mutable sequences:\n",
    "For example, list, bytearray, array.array, and collections.deque.\n",
    "\n",
    "Immutable sequences:\n",
    "For example, tuple, str, and bytes.\n",
    "\n"
   ],
   "id": "95afb5155436f2a4"
  },
  {
   "metadata": {},
   "cell_type": "markdown",
   "source": "",
   "id": "bcd08e8d36bec875"
  }
 ],
 "metadata": {
  "kernelspec": {
   "display_name": "Python 3",
   "language": "python",
   "name": "python3"
  },
  "language_info": {
   "codemirror_mode": {
    "name": "ipython",
    "version": 2
   },
   "file_extension": ".py",
   "mimetype": "text/x-python",
   "name": "python",
   "nbconvert_exporter": "python",
   "pygments_lexer": "ipython2",
   "version": "2.7.6"
  }
 },
 "nbformat": 4,
 "nbformat_minor": 5
}
