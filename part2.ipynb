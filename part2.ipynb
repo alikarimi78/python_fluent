{
 "cells": [
  {
   "metadata": {
    "ExecuteTime": {
     "end_time": "2024-11-20T06:02:40.030115Z",
     "start_time": "2024-11-20T06:02:40.022843Z"
    }
   },
   "cell_type": "code",
   "source": [
    "import math\n",
    "\n",
    "\n",
    "class Vector:\n",
    "    def __init__(self, x=0, y=0):\n",
    "        self.x = x\n",
    "        self.y = y\n",
    "\n",
    "    '''\n",
    "    The __repr__ special method is called by the repr built-in to get the string representation of the object for inspection.\n",
    "    Without a custom __repr__, Python’s console\n",
    "    would display a Vector instance <Vector object at 0x10e100070>.\n",
    "\n",
    "    The string returned by __repr__ should  match the\n",
    "    source code necessary to re-create the represented object.\n",
    "\n",
    "    If you only implement one of these special methods in Python, choose __repr__.\n",
    "    '''\n",
    "\n",
    "    def __repr__(self):\n",
    "        return f'Vector({self.x!r}, {self.y!r})'\n",
    "    def __abs__(self):\n",
    "        return math.hypot(self.x, self.y)\n",
    "    def __bool__(self):\n",
    "        return bool(abs(self))\n",
    "    def __add__(self, other):\n",
    "        if isinstance(other, Vector):\n",
    "            x = self.x + other.x\n",
    "            y = self.y + other.y\n",
    "            return Vector(x, y)\n",
    "        else:\n",
    "            raise TypeError(f\"Unsupported operand type(s) for +=: 'Vector' and '{type(other).__name__}'\")\n",
    "\n",
    "    def __mul__(self, scalar):\n",
    "        return Vector(self.x * scalar, self.y * scalar)\n",
    "\n",
    "    # inplace method does not have return!\n",
    "    def __iadd__(self, other):\n",
    "        if isinstance(other, Vector):  # Ensure `other` is a Vector\n",
    "            self.x += other.x\n",
    "            self.y += other.y\n",
    "        else:\n",
    "            raise TypeError(f\"Unsupported operand type(s) for +=: 'Vector' and '{type(other).__name__}'\")\n",
    "        return self\n",
    "    # other example for inplace usages:\n",
    "    # a list\n",
    "    # a.append(\"item1\")\n"
   ],
   "id": "17c10719e210a7f3",
   "outputs": [],
   "execution_count": 9
  },
  {
   "metadata": {
    "ExecuteTime": {
     "end_time": "2024-11-20T06:03:17.113777Z",
     "start_time": "2024-11-20T06:03:17.095062Z"
    }
   },
   "cell_type": "code",
   "source": [
    "v1 = Vector(1, 2)\n",
    "v2 = Vector(3, -4)\n",
    "v3 = Vector(-3, 4)\n",
    "\n",
    "print(abs(v1))\n",
    "print(v1 + v2)\n",
    "\n",
    "print(bool(v2 + v3))\n",
    "print(bool(v1 + v3))\n",
    "\n",
    "print(v1 * 3)\n",
    "\n",
    "print(\"-----testing inplace method_____\")\n",
    "print(v1)\n",
    "print(v2)\n",
    "v1 += v2\n",
    "print(v1)\n",
    "\n",
    "\n",
    "# __rmul__:\n",
    "print(3 * v1)\n"
   ],
   "id": "9fb396209efe28e7",
   "outputs": [
    {
     "name": "stdout",
     "output_type": "stream",
     "text": [
      "2.23606797749979\n",
      "Vector(4, -2)\n",
      "False\n",
      "True\n",
      "Vector(3, 6)\n",
      "-----testing inplace method_____\n",
      "Vector(1, 2)\n",
      "Vector(3, -4)\n",
      "Vector(4, -2)\n"
     ]
    },
    {
     "ename": "TypeError",
     "evalue": "unsupported operand type(s) for *: 'int' and 'Vector'",
     "output_type": "error",
     "traceback": [
      "\u001B[0;31m---------------------------------------------------------------------------\u001B[0m",
      "\u001B[0;31mTypeError\u001B[0m                                 Traceback (most recent call last)",
      "Cell \u001B[0;32mIn[12], line 21\u001B[0m\n\u001B[1;32m     17\u001B[0m \u001B[38;5;28mprint\u001B[39m(v1)\n\u001B[1;32m     20\u001B[0m \u001B[38;5;66;03m# __rmul__:\u001B[39;00m\n\u001B[0;32m---> 21\u001B[0m \u001B[38;5;28mprint\u001B[39m(\u001B[38;5;241;43m3\u001B[39;49m\u001B[43m \u001B[49m\u001B[38;5;241;43m*\u001B[39;49m\u001B[43m \u001B[49m\u001B[43mv1\u001B[49m)\n",
      "\u001B[0;31mTypeError\u001B[0m: unsupported operand type(s) for *: 'int' and 'Vector'"
     ]
    }
   ],
   "execution_count": 12
  }
 ],
 "metadata": {
  "kernelspec": {
   "display_name": "Python 3",
   "language": "python",
   "name": "python3"
  },
  "language_info": {
   "codemirror_mode": {
    "name": "ipython",
    "version": 2
   },
   "file_extension": ".py",
   "mimetype": "text/x-python",
   "name": "python",
   "nbconvert_exporter": "python",
   "pygments_lexer": "ipython2",
   "version": "2.7.6"
  }
 },
 "nbformat": 4,
 "nbformat_minor": 5
}
