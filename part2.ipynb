{
 "cells": [
  {
   "metadata": {
    "ExecuteTime": {
     "end_time": "2024-11-19T20:23:21.819812Z",
     "start_time": "2024-11-19T20:23:21.814300Z"
    }
   },
   "cell_type": "code",
   "source": [
    "import math\n",
    "class Vector:\n",
    "    def __init__(self, x=0, y=0):\n",
    "        self.x = x\n",
    "        self.y = y\n",
    "\n",
    "    '''\n",
    "    The __repr__ special method is called by the repr built-in to get the string represen‐\n",
    "    tation of the object for inspection. Without a custom __repr__, Python’s console\n",
    "    would display a Vector instance <Vector object at 0x10e100070>.\n",
    "\n",
    "    The string returned by __repr__ should  match the\n",
    "    source code necessary to re-create the represented object.\n",
    "\n",
    "    If you only\n",
    "    implement one of these special methods in Python, choose\n",
    "    __repr__.\n",
    "    '''\n",
    "    def __repr__(self):\n",
    "        return f'Vector({self.x!r}, {self.y!r})'\n",
    "    def __abs__(self):\n",
    "        return math.hypot(self.x, self.y)\n",
    "    def __bool__(self):\n",
    "        return bool(abs(self))\n",
    "    def __add__(self, other):\n",
    "        x = self.x + other.x\n",
    "        y = self.y + other.y\n",
    "        return Vector(x, y)\n",
    "    def __mul__(self, scalar):\n",
    "        return Vector(self.x * scalar, self.y * scalar)\n",
    "\n",
    "    # inplace method does not have return!\n",
    "    def __iadd__(self, other):\n",
    "        if isinstance(other, Vector):  # Ensure `other` is a Vector\n",
    "            self.x += other.x\n",
    "            self.y += other.y\n",
    "        else:\n",
    "            raise TypeError(f\"Unsupported operand type(s) for +=: 'Vector' and '{type(other).__name__}'\")\n",
    "        return self\n",
    "    # other example for inplace usages:\n",
    "    # a list\n",
    "    # a.append(\"item1\")\n"
   ],
   "id": "17c10719e210a7f3",
   "outputs": [],
   "execution_count": 11
  },
  {
   "metadata": {
    "ExecuteTime": {
     "end_time": "2024-11-19T20:23:24.778806Z",
     "start_time": "2024-11-19T20:23:24.764478Z"
    }
   },
   "cell_type": "code",
   "source": [
    "v1 = Vector(1, 2)\n",
    "v2 = Vector(3, -4)\n",
    "v3 = Vector(-3, 4)\n",
    "\n",
    "print(v1 + v2)\n",
    "print(bool(v2 + v3))\n",
    "print(bool(v1 + v3))\n",
    "\n",
    "print(v1 * 3)\n",
    "print(3 * v1)\n",
    "\n",
    "# __rmul__"
   ],
   "id": "9fb396209efe28e7",
   "outputs": [
    {
     "name": "stdout",
     "output_type": "stream",
     "text": [
      "Vector(4, -2)\n",
      "False\n",
      "True\n",
      "Vector(3, 6)\n"
     ]
    },
    {
     "ename": "TypeError",
     "evalue": "unsupported operand type(s) for *: 'int' and 'Vector'",
     "output_type": "error",
     "traceback": [
      "\u001B[0;31m---------------------------------------------------------------------------\u001B[0m",
      "\u001B[0;31mTypeError\u001B[0m                                 Traceback (most recent call last)",
      "Cell \u001B[0;32mIn[12], line 10\u001B[0m\n\u001B[1;32m      7\u001B[0m \u001B[38;5;28mprint\u001B[39m(\u001B[38;5;28mbool\u001B[39m(v1 \u001B[38;5;241m+\u001B[39m v3))\n\u001B[1;32m      9\u001B[0m \u001B[38;5;28mprint\u001B[39m(v1 \u001B[38;5;241m*\u001B[39m \u001B[38;5;241m3\u001B[39m)\n\u001B[0;32m---> 10\u001B[0m \u001B[38;5;28mprint\u001B[39m(\u001B[38;5;241m3\u001B[39m \u001B[38;5;241m*\u001B[39m v1)\n",
      "\u001B[0;31mTypeError\u001B[0m: unsupported operand type(s) for *: 'int' and 'Vector'"
     ]
    }
   ],
   "execution_count": 12
  },
  {
   "metadata": {},
   "cell_type": "code",
   "outputs": [],
   "execution_count": null,
   "source": "",
   "id": "54eceba225089adf"
  }
 ],
 "metadata": {
  "kernelspec": {
   "display_name": "Python 3",
   "language": "python",
   "name": "python3"
  },
  "language_info": {
   "codemirror_mode": {
    "name": "ipython",
    "version": 2
   },
   "file_extension": ".py",
   "mimetype": "text/x-python",
   "name": "python",
   "nbconvert_exporter": "python",
   "pygments_lexer": "ipython2",
   "version": "2.7.6"
  }
 },
 "nbformat": 4,
 "nbformat_minor": 5
}
