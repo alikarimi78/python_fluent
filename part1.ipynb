{
 "cells": [
  {
   "metadata": {},
   "cell_type": "markdown",
   "source": [
    "# fluent python\n",
    "## chapter 1"
   ],
   "id": "8a77807f92f26ee"
  },
  {
   "metadata": {
    "ExecuteTime": {
     "end_time": "2024-11-19T19:04:59.761346Z",
     "start_time": "2024-11-19T19:04:59.757358Z"
    }
   },
   "cell_type": "code",
   "source": [
    "import collections\n",
    "\n",
    "'''\n",
    "collections is a module in Python's standard library that provides specialized data structures. These data structures are alternatives to Python's general-purpose containers (like lists, dictionaries, and tuples)\n",
    "import collections\n",
    "'''\n",
    "\n",
    "# Card class is a type of tuple that takes two items:\n",
    "Card = collections.namedtuple('Card', ['rank', 'suit'])\n",
    "class FrenchDeck:\n",
    "\n",
    "    ranks = [str(n) for n in range(2, 11)] + list('JQKA')\n",
    "    suits = 'spades diamonds clubs hearts'.split()\n",
    "    def __init__(self):\n",
    "        self._cards = [Card(rank, suit) for suit in self.suits\n",
    "            for rank in self.ranks]\n",
    "\n",
    "    # define this function to use .len or in other word length()\n",
    "    def __len__(self):\n",
    "        return len(self._cards)\n",
    "\n",
    "    # define this function to iterate and slice items in it:\n",
    "    def __getitem__(self, position):\n",
    "        return self._cards[position]"
   ],
   "id": "fbc121e30a2defb3",
   "outputs": [],
   "execution_count": 6
  },
  {
   "metadata": {
    "ExecuteTime": {
     "end_time": "2024-11-19T19:07:59.974439Z",
     "start_time": "2024-11-19T19:07:59.970949Z"
    }
   },
   "cell_type": "code",
   "source": [
    "ranks = [str(n) for n in range(2, 11)] + list('JQKA')\n",
    "suits = 'spades diamonds clubs hearts'.split()\n",
    "print(ranks)\n",
    "print(suits)"
   ],
   "id": "f5c38a895c58cab3",
   "outputs": [
    {
     "name": "stdout",
     "output_type": "stream",
     "text": [
      "['2', '3', '4', '5', '6', '7', '8', '9', '10', 'J', 'Q', 'K', 'A']\n",
      "['spades', 'diamonds', 'clubs', 'hearts']\n"
     ]
    }
   ],
   "execution_count": 10
  },
  {
   "metadata": {
    "ExecuteTime": {
     "end_time": "2024-11-19T19:05:02.288493Z",
     "start_time": "2024-11-19T19:05:02.283565Z"
    }
   },
   "cell_type": "code",
   "source": [
    "beer_card = Card('7', 'diamonds')\n",
    "beer_card\n"
   ],
   "id": "92c6c91af4ec1b20",
   "outputs": [
    {
     "data": {
      "text/plain": [
       "Cardd(rank='7', suit='diamonds')"
      ]
     },
     "execution_count": 7,
     "metadata": {},
     "output_type": "execute_result"
    }
   ],
   "execution_count": 7
  },
  {
   "metadata": {
    "ExecuteTime": {
     "end_time": "2024-11-19T19:25:36.876206Z",
     "start_time": "2024-11-19T19:25:36.872395Z"
    }
   },
   "cell_type": "code",
   "source": [
    "'''\n",
    "By implementing the special methods __len__ and __getitem__, our FrenchDeck\n",
    "behaves like a standard Python sequence, allowing it to benefit from core language\n",
    "features (e.g., iteration and slicing)\n",
    "'''\n",
    "\n",
    "deck = FrenchDeck()\n",
    "print(len(deck))\n",
    "print(deck[0])\n",
    "print(Card('Q', 'hearts') in deck)"
   ],
   "id": "a075eb912995658a",
   "outputs": [
    {
     "name": "stdout",
     "output_type": "stream",
     "text": [
      "52\n",
      "Cardd(rank='2', suit='spades')\n",
      "True\n"
     ]
    }
   ],
   "execution_count": 22
  },
  {
   "metadata": {
    "ExecuteTime": {
     "end_time": "2024-11-19T19:13:19.213084Z",
     "start_time": "2024-11-19T19:13:19.209131Z"
    }
   },
   "cell_type": "code",
   "source": [
    "from random import choice\n",
    "choice(deck)"
   ],
   "id": "534e55935d6bcbc5",
   "outputs": [
    {
     "data": {
      "text/plain": [
       "Cardd(rank='J', suit='hearts')"
      ]
     },
     "execution_count": 21,
     "metadata": {},
     "output_type": "execute_result"
    }
   ],
   "execution_count": 21
  }
 ],
 "metadata": {
  "kernelspec": {
   "display_name": "Python 3",
   "language": "python",
   "name": "python3"
  },
  "language_info": {
   "codemirror_mode": {
    "name": "ipython",
    "version": 2
   },
   "file_extension": ".py",
   "mimetype": "text/x-python",
   "name": "python",
   "nbconvert_exporter": "python",
   "pygments_lexer": "ipython2",
   "version": "2.7.6"
  }
 },
 "nbformat": 4,
 "nbformat_minor": 5
}
