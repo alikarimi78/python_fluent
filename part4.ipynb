{
 "cells": [
  {
   "metadata": {},
   "cell_type": "markdown",
   "source": [
    "# fluent python\n",
    "## chapter 2\n",
    "### List Comprehensions"
   ],
   "id": "ed8eca9470e1fff6"
  },
  {
   "metadata": {
    "collapsed": true,
    "ExecuteTime": {
     "end_time": "2024-11-20T05:31:25.763072Z",
     "start_time": "2024-11-20T05:31:25.753502Z"
    }
   },
   "cell_type": "code",
   "source": [
    "symbols = '$¢£¥€¤'\n",
    "codes = [ord(symbol) for symbol in symbols]\n",
    "codes"
   ],
   "id": "initial_id",
   "outputs": [
    {
     "data": {
      "text/plain": [
       "[36, 162, 163, 165, 8364, 164]"
      ]
     },
     "execution_count": 1,
     "metadata": {},
     "output_type": "execute_result"
    }
   ],
   "execution_count": 1
  },
  {
   "metadata": {
    "ExecuteTime": {
     "end_time": "2024-11-20T05:31:28.452166Z",
     "start_time": "2024-11-20T05:31:28.308376Z"
    }
   },
   "cell_type": "code",
   "source": [
    "code = 'ABC'\n",
    "\n",
    "codes = [ord(x) for x in code]\n",
    "print(\"codes: \", codes)\n",
    "codes = [last := ord(c) for c in code]\n",
    "print(\"last: \", last)\n",
    "\n",
    "# difference between list comprehensions and regular for loop: (can't access to x variable)\n",
    "print(x)"
   ],
   "id": "21c37aa8f047d9ac",
   "outputs": [
    {
     "name": "stdout",
     "output_type": "stream",
     "text": [
      "codes:  [65, 66, 67]\n",
      "last:  67\n"
     ]
    },
    {
     "ename": "NameError",
     "evalue": "name 'x' is not defined",
     "output_type": "error",
     "traceback": [
      "\u001B[0;31m---------------------------------------------------------------------------\u001B[0m",
      "\u001B[0;31mNameError\u001B[0m                                 Traceback (most recent call last)",
      "Cell \u001B[0;32mIn[2], line 9\u001B[0m\n\u001B[1;32m      6\u001B[0m \u001B[38;5;28mprint\u001B[39m(\u001B[38;5;124m\"\u001B[39m\u001B[38;5;124mlast: \u001B[39m\u001B[38;5;124m\"\u001B[39m, last)\n\u001B[1;32m      8\u001B[0m \u001B[38;5;66;03m# difference between list comprehensions and regular for loop: (can't access to x variable)\u001B[39;00m\n\u001B[0;32m----> 9\u001B[0m \u001B[38;5;28mprint\u001B[39m(\u001B[43mx\u001B[49m)\n",
      "\u001B[0;31mNameError\u001B[0m: name 'x' is not defined"
     ]
    }
   ],
   "execution_count": 2
  },
  {
   "metadata": {},
   "cell_type": "code",
   "source": [
    "symbols = '$¢£¥€¤'\n",
    "print(map(ord, symbols))\n",
    "print(list(map(ord, symbols)))\n",
    "\n",
    "def my_function(c):\n",
    "    if c > 127:\n",
    "        return True\n",
    "\n",
    "beyond_ascii = list(filter(lambda c: c > 127, map(ord, symbols)))\n",
    "beyond_ascii2 = list(filter(my_function, map(ord, symbols)))\n",
    "\n",
    "print(beyond_ascii)\n",
    "print(beyond_ascii2)"
   ],
   "id": "3e9f5d238a7e9742",
   "outputs": [],
   "execution_count": null
  },
  {
   "metadata": {
    "ExecuteTime": {
     "end_time": "2024-11-20T05:33:14.649839Z",
     "start_time": "2024-11-20T05:33:14.645779Z"
    }
   },
   "cell_type": "code",
   "source": [
    "# Tuples as Immutable Lists so we shouldn't use mutable object in it:\n",
    "a = (10, 'alpha', [1, 2])\n",
    "b = (10, 'alpha', [1, 2])\n",
    "print(a == b)\n",
    "b[-1].append(99)\n",
    "print(a == b)\n",
    "print(b)"
   ],
   "id": "4fb01bd464a15da6",
   "outputs": [
    {
     "name": "stdout",
     "output_type": "stream",
     "text": [
      "True\n",
      "False\n",
      "(10, 'alpha', [1, 2, 99])\n"
     ]
    }
   ],
   "execution_count": 3
  },
  {
   "metadata": {
    "ExecuteTime": {
     "end_time": "2024-11-20T05:35:41.303525Z",
     "start_time": "2024-11-20T05:35:41.299396Z"
    }
   },
   "cell_type": "code",
   "source": [
    "# is a specific object immutable:\n",
    "def fixed(o):\n",
    "    try:\n",
    "        hash(o)\n",
    "    except TypeError:\n",
    "        return False\n",
    "    return True\n",
    "tf = (10, 'alpha', (1, 2))\n",
    "tm = (10, 'alpha', [1, 2])\n",
    "print(fixed(tf))\n",
    "print(fixed(tm))"
   ],
   "id": "6468e07c1a5e860b",
   "outputs": [
    {
     "name": "stdout",
     "output_type": "stream",
     "text": [
      "True\n",
      "False\n"
     ]
    }
   ],
   "execution_count": 6
  }
 ],
 "metadata": {
  "kernelspec": {
   "display_name": "Python 3",
   "language": "python",
   "name": "python3"
  },
  "language_info": {
   "codemirror_mode": {
    "name": "ipython",
    "version": 2
   },
   "file_extension": ".py",
   "mimetype": "text/x-python",
   "name": "python",
   "nbconvert_exporter": "python",
   "pygments_lexer": "ipython2",
   "version": "2.7.6"
  }
 },
 "nbformat": 4,
 "nbformat_minor": 5
}
